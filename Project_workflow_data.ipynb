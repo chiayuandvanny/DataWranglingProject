{
 "cells": [
  {
   "cell_type": "code",
   "execution_count": 9,
   "id": "30b17765-a0fb-4e11-8416-c1a1d8c5d573",
   "metadata": {},
   "outputs": [],
   "source": [
    "import psycopg2\n",
    "import csv\n",
    "from psycopg2.extras import RealDictCursor"
   ]
  },
  {
   "cell_type": "code",
   "execution_count": 5,
   "id": "17f0965f-630d-485f-9dbf-acdb43b6dc7e",
   "metadata": {},
   "outputs": [
    {
     "name": "stdout",
     "output_type": "stream",
     "text": [
      "The sql extension is already loaded. To reload it, use:\n",
      "  %reload_ext sql\n",
      "env: DATABASE_URL=postgresql://localhost/vp_database1\n"
     ]
    }
   ],
   "source": [
    "%load_ext sql\n",
    "%env DATABASE_URL=postgresql://localhost/vp_database1"
   ]
  },
  {
   "cell_type": "code",
   "execution_count": 7,
   "id": "b4241803-b9f5-4ef1-8ecd-da460427c382",
   "metadata": {},
   "outputs": [],
   "source": [
    "with psycopg2.connect(host='localhost', dbname='vp_database1') as conn:\n",
    "    with conn.cursor(cursor_factory=RealDictCursor) as cursor:\n",
    "        cursor.execute(\n",
    "            \"\"\"\n",
    "            CREATE TABLE race (\n",
    "                id SERIAL PRIMARY KEY,\n",
    "                name TEXT\n",
    "            )\n",
    "            \"\"\"\n",
    "        )\n",
    "        "
   ]
  },
  {
   "cell_type": "code",
   "execution_count": 14,
   "id": "6f016b9e-5a66-434d-a9ca-d3b2b57cf751",
   "metadata": {},
   "outputs": [
    {
     "name": "stdout",
     "output_type": "stream",
     "text": [
      "found 99 for White Alone\n",
      "found 99 for White Alone\n",
      "found 100 for Black or African American Alone\n",
      "found 100 for Black or African American Alone\n",
      "found 101 for American Indian & Alaska Native Alone\n",
      "found 101 for American Indian & Alaska Native Alone\n",
      "found 102 for Asian Alone\n",
      "found 102 for Asian Alone\n",
      "found 103 for Native Hawaiian & Other Pacific Islander Alone\n",
      "found 103 for Native Hawaiian & Other Pacific Islander Alone\n",
      "found 104 for Some Other Race Alone\n",
      "found 104 for Some Other Race Alone\n",
      "found 105 for Two or More Races\n",
      "found 105 for Two or More Races\n",
      "found 99 for White Alone\n",
      "found 99 for White Alone\n",
      "found 100 for Black or African American Alone\n",
      "found 100 for Black or African American Alone\n",
      "found 101 for American Indian & Alaska Native Alone\n",
      "found 101 for American Indian & Alaska Native Alone\n",
      "found 102 for Asian Alone\n",
      "found 102 for Asian Alone\n",
      "found 103 for Native Hawaiian & Other Pacific Islander Alone\n",
      "found 103 for Native Hawaiian & Other Pacific Islander Alone\n",
      "found 104 for Some Other Race Alone\n",
      "found 104 for Some Other Race Alone\n",
      "found 105 for Two or More Races\n",
      "found 105 for Two or More Races\n",
      "found 99 for White Alone\n",
      "found 99 for White Alone\n",
      "found 100 for Black or African American Alone\n",
      "found 100 for Black or African American Alone\n",
      "found 101 for American Indian & Alaska Native Alone\n",
      "found 101 for American Indian & Alaska Native Alone\n",
      "found 102 for Asian Alone\n",
      "found 102 for Asian Alone\n",
      "found 103 for Native Hawaiian & Other Pacific Islander Alone\n",
      "found 103 for Native Hawaiian & Other Pacific Islander Alone\n",
      "found 104 for Some Other Race Alone\n",
      "found 104 for Some Other Race Alone\n",
      "found 105 for Two or More Races\n",
      "found 105 for Two or More Races\n",
      "found 99 for White Alone\n",
      "found 99 for White Alone\n",
      "found 100 for Black or African American Alone\n",
      "found 100 for Black or African American Alone\n",
      "found 101 for American Indian & Alaska Native Alone\n",
      "found 101 for American Indian & Alaska Native Alone\n",
      "found 102 for Asian Alone\n",
      "found 102 for Asian Alone\n",
      "found 103 for Native Hawaiian & Other Pacific Islander Alone\n",
      "found 103 for Native Hawaiian & Other Pacific Islander Alone\n",
      "found 104 for Some Other Race Alone\n",
      "found 104 for Some Other Race Alone\n",
      "found 105 for Two or More Races\n",
      "found 105 for Two or More Races\n",
      "found 99 for White Alone\n",
      "found 99 for White Alone\n",
      "found 100 for Black or African American Alone\n",
      "found 100 for Black or African American Alone\n",
      "found 101 for American Indian & Alaska Native Alone\n",
      "found 101 for American Indian & Alaska Native Alone\n",
      "found 102 for Asian Alone\n",
      "found 102 for Asian Alone\n",
      "found 103 for Native Hawaiian & Other Pacific Islander Alone\n",
      "found 103 for Native Hawaiian & Other Pacific Islander Alone\n",
      "found 104 for Some Other Race Alone\n",
      "found 104 for Some Other Race Alone\n",
      "found 105 for Two or More Races\n",
      "found 105 for Two or More Races\n",
      "found 99 for White Alone\n",
      "found 99 for White Alone\n",
      "found 100 for Black or African American Alone\n",
      "found 100 for Black or African American Alone\n",
      "found 101 for American Indian & Alaska Native Alone\n",
      "found 101 for American Indian & Alaska Native Alone\n",
      "found 102 for Asian Alone\n",
      "found 102 for Asian Alone\n",
      "found 103 for Native Hawaiian & Other Pacific Islander Alone\n",
      "found 103 for Native Hawaiian & Other Pacific Islander Alone\n",
      "found 104 for Some Other Race Alone\n",
      "found 104 for Some Other Race Alone\n",
      "found 105 for Two or More Races\n",
      "found 105 for Two or More Races\n",
      "found 99 for White Alone\n",
      "found 99 for White Alone\n",
      "found 100 for Black or African American Alone\n",
      "found 100 for Black or African American Alone\n",
      "found 101 for American Indian & Alaska Native Alone\n",
      "found 101 for American Indian & Alaska Native Alone\n",
      "found 102 for Asian Alone\n",
      "found 102 for Asian Alone\n",
      "found 103 for Native Hawaiian & Other Pacific Islander Alone\n",
      "found 103 for Native Hawaiian & Other Pacific Islander Alone\n",
      "found 104 for Some Other Race Alone\n",
      "found 104 for Some Other Race Alone\n",
      "found 105 for Two or More Races\n",
      "found 105 for Two or More Races\n"
     ]
    }
   ],
   "source": [
    "with psycopg2.connect(host='localhost', dbname='vp_database1') as conn:\n",
    "    with conn.cursor(cursor_factory=RealDictCursor) as cursor:\n",
    "\n",
    "        with open('Race.csv') as csvfile:\n",
    "          # tell python about the specific csv format\n",
    "          myCSVReader = csv.DictReader(csvfile, delimiter=\",\", quotechar='\"')\n",
    "\n",
    "          # move row by row through the file as though it was a list.\n",
    "          for row in myCSVReader:\n",
    "                \n",
    "                cursor.execute(\"SELECT id FROM race WHERE name = %(Race)s\", \n",
    "                               row)\n",
    "\n",
    "                # How many results?\n",
    "                if (cursor.rowcount == 1):\n",
    "                    # Only one result expected, use cursor.fetchone()\n",
    "                    race_id = cursor.fetchone()['id']\n",
    "                else:\n",
    "                    cursor.execute(\"\"\"\n",
    "                                    INSERT INTO race(name)\n",
    "                                    VALUES (\n",
    "                                         %(Race)s -- name from CS\n",
    "                                    ) \n",
    "                                    RETURNING id\n",
    "                                    \"\"\",\n",
    "                                    row)  \n",
    "                    # store the id for the new venue\n",
    "                    race_id = cursor.fetchone()['id']\n",
    "                print(f\"found {race_id} for {row['Race']}\")"
   ]
  },
  {
   "cell_type": "code",
   "execution_count": 15,
   "id": "2597900e-0d5d-46c0-9277-44512168a715",
   "metadata": {},
   "outputs": [
    {
     "name": "stdout",
     "output_type": "stream",
     "text": [
      " * postgresql://localhost/vp_database1\n",
      "7 rows affected.\n"
     ]
    },
    {
     "data": {
      "text/html": [
       "<table>\n",
       "    <thead>\n",
       "        <tr>\n",
       "            <th>id</th>\n",
       "            <th>name</th>\n",
       "        </tr>\n",
       "    </thead>\n",
       "    <tbody>\n",
       "        <tr>\n",
       "            <td>99</td>\n",
       "            <td>White Alone</td>\n",
       "        </tr>\n",
       "        <tr>\n",
       "            <td>100</td>\n",
       "            <td>Black or African American Alone</td>\n",
       "        </tr>\n",
       "        <tr>\n",
       "            <td>101</td>\n",
       "            <td>American Indian &amp; Alaska Native Alone</td>\n",
       "        </tr>\n",
       "        <tr>\n",
       "            <td>102</td>\n",
       "            <td>Asian Alone</td>\n",
       "        </tr>\n",
       "        <tr>\n",
       "            <td>103</td>\n",
       "            <td>Native Hawaiian &amp; Other Pacific Islander Alone</td>\n",
       "        </tr>\n",
       "        <tr>\n",
       "            <td>104</td>\n",
       "            <td>Some Other Race Alone</td>\n",
       "        </tr>\n",
       "        <tr>\n",
       "            <td>105</td>\n",
       "            <td>Two or More Races</td>\n",
       "        </tr>\n",
       "    </tbody>\n",
       "</table>"
      ],
      "text/plain": [
       "[(99, 'White Alone'),\n",
       " (100, 'Black or African American Alone'),\n",
       " (101, 'American Indian & Alaska Native Alone'),\n",
       " (102, 'Asian Alone'),\n",
       " (103, 'Native Hawaiian & Other Pacific Islander Alone'),\n",
       " (104, 'Some Other Race Alone'),\n",
       " (105, 'Two or More Races')]"
      ]
     },
     "execution_count": 15,
     "metadata": {},
     "output_type": "execute_result"
    }
   ],
   "source": [
    "%%sql\n",
    "SELECT * FROM race "
   ]
  },
  {
   "cell_type": "code",
   "execution_count": 13,
   "id": "785264e7-6ed0-4a91-b227-74384e95afe2",
   "metadata": {},
   "outputs": [
    {
     "name": "stdout",
     "output_type": "stream",
     "text": [
      " * postgresql://localhost/vp_database1\n",
      "Done.\n"
     ]
    },
    {
     "data": {
      "text/plain": [
       "[]"
      ]
     },
     "execution_count": 13,
     "metadata": {},
     "output_type": "execute_result"
    }
   ],
   "source": [
    "%%sql\n",
    "TRUNCATE race"
   ]
  },
  {
   "cell_type": "code",
   "execution_count": 7,
   "id": "8cf984fc-cab0-4ab1-a0f4-c6747b4cf088",
   "metadata": {},
   "outputs": [
    {
     "ename": "UndefinedTable",
     "evalue": "relation \"babynames\" does not exist\nLINE 1: SELECT * FROM BabyNames\n                      ^\n",
     "output_type": "error",
     "traceback": [
      "\u001b[0;31m---------------------------------------------------------------------------\u001b[0m",
      "\u001b[0;31mUndefinedTable\u001b[0m                            Traceback (most recent call last)",
      "\u001b[0;32m/tmp/ipykernel_424/121535458.py\u001b[0m in \u001b[0;36m<module>\u001b[0;34m\u001b[0m\n\u001b[1;32m      5\u001b[0m     \u001b[0;32mwith\u001b[0m \u001b[0mconn\u001b[0m\u001b[0;34m.\u001b[0m\u001b[0mcursor\u001b[0m\u001b[0;34m(\u001b[0m\u001b[0mcursor_factory\u001b[0m\u001b[0;34m=\u001b[0m\u001b[0mRealDictCursor\u001b[0m\u001b[0;34m)\u001b[0m \u001b[0;32mas\u001b[0m \u001b[0mcursor\u001b[0m\u001b[0;34m:\u001b[0m\u001b[0;34m\u001b[0m\u001b[0;34m\u001b[0m\u001b[0m\n\u001b[1;32m      6\u001b[0m \u001b[0;34m\u001b[0m\u001b[0m\n\u001b[0;32m----> 7\u001b[0;31m         \u001b[0mcursor\u001b[0m\u001b[0;34m.\u001b[0m\u001b[0mexecute\u001b[0m\u001b[0;34m(\u001b[0m\u001b[0;34m\"SELECT * FROM BabyNames\"\u001b[0m\u001b[0;34m)\u001b[0m\u001b[0;34m\u001b[0m\u001b[0;34m\u001b[0m\u001b[0m\n\u001b[0m\u001b[1;32m      8\u001b[0m \u001b[0;34m\u001b[0m\u001b[0m\n\u001b[1;32m      9\u001b[0m         \u001b[0;32mwith\u001b[0m \u001b[0mopen\u001b[0m\u001b[0;34m(\u001b[0m\u001b[0;34m'BabyNames.csv'\u001b[0m\u001b[0;34m,\u001b[0m \u001b[0;34m'w'\u001b[0m\u001b[0;34m)\u001b[0m \u001b[0;32mas\u001b[0m \u001b[0mcsvfile\u001b[0m\u001b[0;34m:\u001b[0m\u001b[0;34m\u001b[0m\u001b[0;34m\u001b[0m\u001b[0m\n",
      "\u001b[0;32m/srv/conda/envs/notebook/lib/python3.7/site-packages/psycopg2/extras.py\u001b[0m in \u001b[0;36mexecute\u001b[0;34m(self, query, vars)\u001b[0m\n\u001b[1;32m    234\u001b[0m         \u001b[0mself\u001b[0m\u001b[0;34m.\u001b[0m\u001b[0mcolumn_mapping\u001b[0m \u001b[0;34m=\u001b[0m \u001b[0;34m[\u001b[0m\u001b[0;34m]\u001b[0m\u001b[0;34m\u001b[0m\u001b[0;34m\u001b[0m\u001b[0m\n\u001b[1;32m    235\u001b[0m         \u001b[0mself\u001b[0m\u001b[0;34m.\u001b[0m\u001b[0m_query_executed\u001b[0m \u001b[0;34m=\u001b[0m \u001b[0;32mTrue\u001b[0m\u001b[0;34m\u001b[0m\u001b[0;34m\u001b[0m\u001b[0m\n\u001b[0;32m--> 236\u001b[0;31m         \u001b[0;32mreturn\u001b[0m \u001b[0msuper\u001b[0m\u001b[0;34m(\u001b[0m\u001b[0;34m)\u001b[0m\u001b[0;34m.\u001b[0m\u001b[0mexecute\u001b[0m\u001b[0;34m(\u001b[0m\u001b[0mquery\u001b[0m\u001b[0;34m,\u001b[0m \u001b[0mvars\u001b[0m\u001b[0;34m)\u001b[0m\u001b[0;34m\u001b[0m\u001b[0;34m\u001b[0m\u001b[0m\n\u001b[0m\u001b[1;32m    237\u001b[0m \u001b[0;34m\u001b[0m\u001b[0m\n\u001b[1;32m    238\u001b[0m     \u001b[0;32mdef\u001b[0m \u001b[0mcallproc\u001b[0m\u001b[0;34m(\u001b[0m\u001b[0mself\u001b[0m\u001b[0;34m,\u001b[0m \u001b[0mprocname\u001b[0m\u001b[0;34m,\u001b[0m \u001b[0mvars\u001b[0m\u001b[0;34m=\u001b[0m\u001b[0;32mNone\u001b[0m\u001b[0;34m)\u001b[0m\u001b[0;34m:\u001b[0m\u001b[0;34m\u001b[0m\u001b[0;34m\u001b[0m\u001b[0m\n",
      "\u001b[0;31mUndefinedTable\u001b[0m: relation \"babynames\" does not exist\nLINE 1: SELECT * FROM BabyNames\n                      ^\n"
     ]
    }
   ],
   "source": [
    "import csv\n",
    "\n",
    "\n",
    "with psycopg2.connect(host='localhost', dbname='vp_database1') as conn:\n",
    "    with conn.cursor(cursor_factory=RealDictCursor) as cursor:\n",
    "\n",
    "        cursor.execute(\"SELECT * FROM BabyNames\")\n",
    "        \n",
    "        with open('BabyNames.csv', 'w') as csvfile:\n",
    "            # Declare csv fields in the order we want them\n",
    "            column_names = [i[0] for i in cursor.description]\n",
    "            myCsvWriter = csv.DictWriter(csvfile,\n",
    "                                         fieldnames=column_names)\n",
    "\n",
    "            myCsvWriter.writeheader()\n",
    "\n",
    "            for row in cursor:           # <======== See extra indent\n",
    "                myCsvWriter.writerow(row)\n",
    "\n",
    "print(\"Done writing csv\")"
   ]
  },
  {
   "cell_type": "code",
   "execution_count": 8,
   "id": "7a942727-7bef-4074-968c-e8a688cf0217",
   "metadata": {},
   "outputs": [
    {
     "name": "stdout",
     "output_type": "stream",
     "text": [
      "Inserting: \n",
      "OrderedDict([('Year_of_Birth', '2011'), ('Gender', 'FEMALE'), ('Ethnicity', 'HISPANIC'), ('Childs_First_Name', 'GERALDINE'), ('Count', '13'), ('Rank', '75')])\n"
     ]
    },
    {
     "ename": "KeyError",
     "evalue": "'name'",
     "output_type": "error",
     "traceback": [
      "\u001b[0;31m---------------------------------------------------------------------------\u001b[0m",
      "\u001b[0;31mKeyError\u001b[0m                                  Traceback (most recent call last)",
      "\u001b[0;32m/tmp/ipykernel_424/1637041364.py\u001b[0m in \u001b[0;36m<module>\u001b[0;34m\u001b[0m\n\u001b[1;32m     19\u001b[0m                 \u001b[0mprint\u001b[0m\u001b[0;34m(\u001b[0m\u001b[0;34m\"Inserting: \"\u001b[0m\u001b[0;34m)\u001b[0m\u001b[0;34m\u001b[0m\u001b[0;34m\u001b[0m\u001b[0m\n\u001b[1;32m     20\u001b[0m                 \u001b[0mprint\u001b[0m\u001b[0;34m(\u001b[0m\u001b[0mrow\u001b[0m\u001b[0;34m)\u001b[0m\u001b[0;34m\u001b[0m\u001b[0;34m\u001b[0m\u001b[0m\n\u001b[0;32m---> 21\u001b[0;31m                 \u001b[0mcursor\u001b[0m\u001b[0;34m.\u001b[0m\u001b[0mexecute\u001b[0m\u001b[0;34m(\u001b[0m\u001b[0msql\u001b[0m\u001b[0;34m,\u001b[0m \u001b[0mrow\u001b[0m\u001b[0;34m)\u001b[0m\u001b[0;34m\u001b[0m\u001b[0;34m\u001b[0m\u001b[0m\n\u001b[0m",
      "\u001b[0;32m/srv/conda/envs/notebook/lib/python3.7/site-packages/psycopg2/extras.py\u001b[0m in \u001b[0;36mexecute\u001b[0;34m(self, query, vars)\u001b[0m\n\u001b[1;32m    234\u001b[0m         \u001b[0mself\u001b[0m\u001b[0;34m.\u001b[0m\u001b[0mcolumn_mapping\u001b[0m \u001b[0;34m=\u001b[0m \u001b[0;34m[\u001b[0m\u001b[0;34m]\u001b[0m\u001b[0;34m\u001b[0m\u001b[0;34m\u001b[0m\u001b[0m\n\u001b[1;32m    235\u001b[0m         \u001b[0mself\u001b[0m\u001b[0;34m.\u001b[0m\u001b[0m_query_executed\u001b[0m \u001b[0;34m=\u001b[0m \u001b[0;32mTrue\u001b[0m\u001b[0;34m\u001b[0m\u001b[0;34m\u001b[0m\u001b[0m\n\u001b[0;32m--> 236\u001b[0;31m         \u001b[0;32mreturn\u001b[0m \u001b[0msuper\u001b[0m\u001b[0;34m(\u001b[0m\u001b[0;34m)\u001b[0m\u001b[0;34m.\u001b[0m\u001b[0mexecute\u001b[0m\u001b[0;34m(\u001b[0m\u001b[0mquery\u001b[0m\u001b[0;34m,\u001b[0m \u001b[0mvars\u001b[0m\u001b[0;34m)\u001b[0m\u001b[0;34m\u001b[0m\u001b[0;34m\u001b[0m\u001b[0m\n\u001b[0m\u001b[1;32m    237\u001b[0m \u001b[0;34m\u001b[0m\u001b[0m\n\u001b[1;32m    238\u001b[0m     \u001b[0;32mdef\u001b[0m \u001b[0mcallproc\u001b[0m\u001b[0;34m(\u001b[0m\u001b[0mself\u001b[0m\u001b[0;34m,\u001b[0m \u001b[0mprocname\u001b[0m\u001b[0;34m,\u001b[0m \u001b[0mvars\u001b[0m\u001b[0;34m=\u001b[0m\u001b[0;32mNone\u001b[0m\u001b[0;34m)\u001b[0m\u001b[0;34m:\u001b[0m\u001b[0;34m\u001b[0m\u001b[0;34m\u001b[0m\u001b[0m\n",
      "\u001b[0;31mKeyError\u001b[0m: 'name'"
     ]
    }
   ],
   "source": [
    "with psycopg2.connect(host='localhost', dbname='vp_database1') as conn:\n",
    "    with conn.cursor(cursor_factory=RealDictCursor) as cursor:\n",
    "\n",
    "        with open('BabyNames.csv') as csvfile:\n",
    "            myCSVReader = csv.DictReader(csvfile)\n",
    "\n",
    "            sql = \"\"\"\n",
    "                  INSERT INTO venues(\n",
    "                                 name,\n",
    "                                 capacity\n",
    "                              ) VALUES (\n",
    "                                 %(name)s, \n",
    "                                 %(capacity)s\n",
    "                              )\n",
    "                  \"\"\"\n",
    "\n",
    "            for row in myCSVReader:\n",
    "                # use row directly when csv headers match column names.\n",
    "                print(\"Inserting: \")\n",
    "                print(row)\n",
    "                cursor.execute(sql, row)"
   ]
  },
  {
   "cell_type": "code",
   "execution_count": null,
   "id": "fd00c8f7-21bb-4194-8315-5d14073ade96",
   "metadata": {},
   "outputs": [],
   "source": []
  }
 ],
 "metadata": {
  "kernelspec": {
   "display_name": "Python 3 (ipykernel)",
   "language": "python",
   "name": "python3"
  },
  "language_info": {
   "codemirror_mode": {
    "name": "ipython",
    "version": 3
   },
   "file_extension": ".py",
   "mimetype": "text/x-python",
   "name": "python",
   "nbconvert_exporter": "python",
   "pygments_lexer": "ipython3",
   "version": "3.7.12"
  }
 },
 "nbformat": 4,
 "nbformat_minor": 5
}
